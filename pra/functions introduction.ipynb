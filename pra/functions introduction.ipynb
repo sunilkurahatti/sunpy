{
 "cells": [
  {
   "cell_type": "code",
   "execution_count": 1,
   "metadata": {},
   "outputs": [
    {
     "name": "stdout",
     "output_type": "stream",
     "text": [
      "==============OM==============\n"
     ]
    }
   ],
   "source": [
    "print(\"==============OM==============\")"
   ]
  },
  {
   "cell_type": "markdown",
   "metadata": {},
   "source": [
    "# Functions "
   ]
  },
  {
   "cell_type": "code",
   "execution_count": 29,
   "metadata": {},
   "outputs": [
    {
     "name": "stdout",
     "output_type": "stream",
     "text": [
      "Enter your name: dd\n",
      "Hello,  dd\n"
     ]
    }
   ],
   "source": [
    "def greet():\n",
    "    name=input(\"Enter your name: \")\n",
    "    print(\"Hello, \",name )\n",
    "    \n",
    "greet()"
   ]
  },
  {
   "cell_type": "raw",
   "metadata": {},
   "source": [
    "greet()"
   ]
  }
 ],
 "metadata": {
  "kernelspec": {
   "display_name": "Python 3",
   "language": "python",
   "name": "python3"
  },
  "language_info": {
   "codemirror_mode": {
    "name": "ipython",
    "version": 3
   },
   "file_extension": ".py",
   "mimetype": "text/x-python",
   "name": "python",
   "nbconvert_exporter": "python",
   "pygments_lexer": "ipython3",
   "version": "3.5.2"
  }
 },
 "nbformat": 4,
 "nbformat_minor": 2
}
