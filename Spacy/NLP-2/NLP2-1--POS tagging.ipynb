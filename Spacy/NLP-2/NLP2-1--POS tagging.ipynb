{
 "cells": [
  {
   "cell_type": "code",
   "execution_count": 2,
   "metadata": {},
   "outputs": [],
   "source": [
    "import spacy\n",
    "nlp=spacy.load('en_core_web_sm')"
   ]
  },
  {
   "cell_type": "code",
   "execution_count": 20,
   "metadata": {},
   "outputs": [],
   "source": [
    "doc = nlp(u\"The quick brown fox jumped over the lazy dog's back.\")"
   ]
  },
  {
   "cell_type": "code",
   "execution_count": 4,
   "metadata": {},
   "outputs": [
    {
     "name": "stdout",
     "output_type": "stream",
     "text": [
      "The quick brown fox jumped over the lazy dog's back.\n"
     ]
    }
   ],
   "source": [
    "print(doc.text)"
   ]
  },
  {
   "cell_type": "code",
   "execution_count": 40,
   "metadata": {},
   "outputs": [
    {
     "name": "stdout",
     "output_type": "stream",
     "text": [
      "The       DET       DT        determiner\n",
      "quick     ADJ       JJ        adjective \n",
      "brown     ADJ       JJ        adjective \n",
      "fox       NOUN      NN        noun, singular or mass\n",
      "jumped    VERB      VBD       verb, past tense\n",
      "over      ADP       IN        conjunction, subordinating or preposition\n",
      "the       DET       DT        determiner\n",
      "lazy      ADJ       JJ        adjective \n",
      "dog       NOUN      NN        noun, singular or mass\n",
      "'s        PART      POS       possessive ending\n",
      "back      NOUN      NN        noun, singular or mass\n",
      ".         PUNCT     .         punctuation mark, sentence closer\n"
     ]
    }
   ],
   "source": [
    "for token in doc:\n",
    "    print('{:10}{:10}{:<10}{:10}'.format(token.text, token.pos_,token.tag_,spacy.explain(token.tag_)))"
   ]
  },
  {
   "cell_type": "markdown",
   "metadata": {},
   "source": [
    "# Counting POS"
   ]
  },
  {
   "cell_type": "code",
   "execution_count": 24,
   "metadata": {},
   "outputs": [
    {
     "data": {
      "text/plain": [
       "{84: 3, 85: 1, 90: 2, 92: 3, 94: 1, 97: 1, 100: 1}"
      ]
     },
     "execution_count": 24,
     "metadata": {},
     "output_type": "execute_result"
    }
   ],
   "source": [
    "pos_count=doc.count_by(spacy.attrs.POS)\n",
    "pos_count"
   ]
  },
  {
   "cell_type": "code",
   "execution_count": 34,
   "metadata": {},
   "outputs": [
    {
     "name": "stdout",
     "output_type": "stream",
     "text": [
      "97        :PUNCT               1\n",
      "84        :ADJ                 3\n",
      "85        :ADP                 1\n",
      "100       :VERB                1\n",
      "90        :DET                 2\n",
      "92        :NOUN                3\n",
      "94        :PART                1\n"
     ]
    }
   ],
   "source": [
    "for k,v in pos_count.items():\n",
    "    print('{:<10}:{:<10} {:>10}'.format(k,doc.vocab[k].text,v))"
   ]
  },
  {
   "cell_type": "markdown",
   "metadata": {},
   "source": [
    "# counting tags"
   ]
  },
  {
   "cell_type": "code",
   "execution_count": 35,
   "metadata": {},
   "outputs": [
    {
     "data": {
      "text/plain": [
       "{74: 1,\n",
       " 1292078113972184607: 1,\n",
       " 10554686591937588953: 3,\n",
       " 12646065887601541794: 1,\n",
       " 15267657372422890137: 2,\n",
       " 15308085513773655218: 3,\n",
       " 17109001835818727656: 1}"
      ]
     },
     "execution_count": 35,
     "metadata": {},
     "output_type": "execute_result"
    }
   ],
   "source": [
    "tag_count=doc.count_by(spacy.attrs.TAG)\n",
    "tag_count"
   ]
  },
  {
   "cell_type": "code",
   "execution_count": 38,
   "metadata": {},
   "outputs": [
    {
     "name": "stdout",
     "output_type": "stream",
     "text": [
      "1292078113972184607           :IN                  1\n",
      "12646065887601541794          :.                   1\n",
      "15308085513773655218          :NN                  3\n",
      "74                            :POS                 1\n",
      "15267657372422890137          :DT                  2\n",
      "10554686591937588953          :JJ                  3\n",
      "17109001835818727656          :VBD                 1\n"
     ]
    }
   ],
   "source": [
    "for k,v in tag_count.items():\n",
    "    print('{:<30}:{:<10} {:>10}'.format(k,doc.vocab[k].text,v))"
   ]
  },
  {
   "cell_type": "markdown",
   "metadata": {},
   "source": [
    "# Dep Counts"
   ]
  },
  {
   "cell_type": "code",
   "execution_count": 41,
   "metadata": {},
   "outputs": [
    {
     "data": {
      "text/plain": [
       "{402: 3,\n",
       " 415: 2,\n",
       " 429: 1,\n",
       " 439: 1,\n",
       " 440: 1,\n",
       " 443: 1,\n",
       " 445: 1,\n",
       " 8110129090154140942: 1,\n",
       " 8206900633647566924: 1}"
      ]
     },
     "execution_count": 41,
     "metadata": {},
     "output_type": "execute_result"
    }
   ],
   "source": [
    "dep_count=doc.count_by(spacy.attrs.DEP)\n",
    "dep_count"
   ]
  },
  {
   "cell_type": "code",
   "execution_count": 42,
   "metadata": {},
   "outputs": [
    {
     "name": "stdout",
     "output_type": "stream",
     "text": [
      "429                           :nsubj               1\n",
      "8206900633647566924           :ROOT                1\n",
      "8110129090154140942           :case                1\n",
      "402                           :amod                3\n",
      "439                           :pobj                1\n",
      "440                           :poss                1\n",
      "443                           :prep                1\n",
      "445                           :punct               1\n",
      "415                           :det                 2\n"
     ]
    }
   ],
   "source": [
    "for k,v in dep_count.items():\n",
    "    print('{:<30}:{:<10} {:>10}'.format(k,doc.vocab[k].text,v))"
   ]
  }
 ],
 "metadata": {
  "kernelspec": {
   "display_name": "Python 3",
   "language": "python",
   "name": "python3"
  },
  "language_info": {
   "codemirror_mode": {
    "name": "ipython",
    "version": 3
   },
   "file_extension": ".py",
   "mimetype": "text/x-python",
   "name": "python",
   "nbconvert_exporter": "python",
   "pygments_lexer": "ipython3",
   "version": "3.5.2"
  }
 },
 "nbformat": 4,
 "nbformat_minor": 2
}
