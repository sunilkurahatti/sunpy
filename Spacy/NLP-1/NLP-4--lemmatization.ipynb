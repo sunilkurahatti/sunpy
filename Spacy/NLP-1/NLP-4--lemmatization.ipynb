{
 "cells": [
  {
   "cell_type": "code",
   "execution_count": 1,
   "metadata": {},
   "outputs": [
    {
     "name": "stdout",
     "output_type": "stream",
     "text": [
      "============OM=============\n"
     ]
    }
   ],
   "source": [
    "print(\"============OM=============\")"
   ]
  },
  {
   "cell_type": "code",
   "execution_count": 2,
   "metadata": {},
   "outputs": [],
   "source": [
    "import spacy\n",
    "nlp=spacy.load('en_core_web_sm')"
   ]
  },
  {
   "cell_type": "code",
   "execution_count": 3,
   "metadata": {},
   "outputs": [],
   "source": [
    "doc1 = nlp(u\"I am a runner running in a race because I love to run since I ran today\")"
   ]
  },
  {
   "cell_type": "code",
   "execution_count": 5,
   "metadata": {},
   "outputs": [
    {
     "name": "stdout",
     "output_type": "stream",
     "text": [
      "I \t PRON \t 561228191312463089 \t -PRON-\n",
      "am \t VERB \t 10382539506755952630 \t be\n",
      "a \t DET \t 11901859001352538922 \t a\n",
      "runner \t NOUN \t 12640964157389618806 \t runner\n",
      "running \t VERB \t 12767647472892411841 \t run\n",
      "in \t ADP \t 3002984154512732771 \t in\n",
      "a \t DET \t 11901859001352538922 \t a\n",
      "race \t NOUN \t 8048469955494714898 \t race\n",
      "because \t ADP \t 16950148841647037698 \t because\n",
      "I \t PRON \t 561228191312463089 \t -PRON-\n",
      "love \t VERB \t 3702023516439754181 \t love\n",
      "to \t PART \t 3791531372978436496 \t to\n",
      "run \t VERB \t 12767647472892411841 \t run\n",
      "since \t ADP \t 10066841407251338481 \t since\n",
      "I \t PRON \t 561228191312463089 \t -PRON-\n",
      "ran \t VERB \t 12767647472892411841 \t run\n",
      "today \t NOUN \t 11042482332948150395 \t today\n"
     ]
    }
   ],
   "source": [
    "for token in doc1:\n",
    "    print(token.text, '\\t' ,token.pos_,'\\t', token.lemma,'\\t', token.lemma_)"
   ]
  },
  {
   "cell_type": "code",
   "execution_count": 83,
   "metadata": {},
   "outputs": [],
   "source": [
    "def show_lemma(text):\n",
    "    for token in text:\n",
    "        print('{:12s}{:6s}{:22d}{:>20s}'.format(token.text,token.pos_,token.lemma,token.lemma_))"
   ]
  },
  {
   "cell_type": "code",
   "execution_count": 84,
   "metadata": {},
   "outputs": [
    {
     "name": "stdout",
     "output_type": "stream",
     "text": [
      "I           PRON      561228191312463089              -PRON-\n",
      "am          VERB    10382539506755952630                  be\n",
      "a           DET     11901859001352538922                   a\n",
      "runner      NOUN    12640964157389618806              runner\n",
      "running     VERB    12767647472892411841                 run\n",
      "in          ADP      3002984154512732771                  in\n",
      "a           DET     11901859001352538922                   a\n",
      "race        NOUN     8048469955494714898                race\n",
      "because     ADP     16950148841647037698             because\n",
      "I           PRON      561228191312463089              -PRON-\n",
      "love        VERB     3702023516439754181                love\n",
      "to          PART     3791531372978436496                  to\n",
      "run         VERB    12767647472892411841                 run\n",
      "since       ADP     10066841407251338481               since\n",
      "I           PRON      561228191312463089              -PRON-\n",
      "ran         VERB    12767647472892411841                 run\n",
      "today       NOUN    11042482332948150395               today\n"
     ]
    }
   ],
   "source": [
    "show_lemma(doc1)"
   ]
  },
  {
   "cell_type": "code",
   "execution_count": 85,
   "metadata": {},
   "outputs": [],
   "source": [
    "doc2 = nlp(u\"I saw eighteen mice today!\")\n"
   ]
  },
  {
   "cell_type": "code",
   "execution_count": 86,
   "metadata": {},
   "outputs": [
    {
     "name": "stdout",
     "output_type": "stream",
     "text": [
      "I           PRON      561228191312463089              -PRON-\n",
      "saw         VERB    11925638236994514241                 see\n",
      "eighteen    NUM      9609336664675087640            eighteen\n",
      "mice        NOUN     1384165645700560590               mouse\n",
      "today       NOUN    11042482332948150395               today\n",
      "!           PUNCT   17494803046312582752                   !\n"
     ]
    }
   ],
   "source": [
    "show_lemma(doc2)"
   ]
  },
  {
   "cell_type": "code",
   "execution_count": 92,
   "metadata": {},
   "outputs": [],
   "source": [
    "doc3 = nlp(u\"I am meeting him tomorrow at the meeting.\")\n",
    "doc4 = nlp(u\"That's an enormous automobile i am having, since i had\")"
   ]
  },
  {
   "cell_type": "code",
   "execution_count": 88,
   "metadata": {},
   "outputs": [
    {
     "name": "stdout",
     "output_type": "stream",
     "text": [
      "I           PRON      561228191312463089              -PRON-\n",
      "am          VERB    10382539506755952630                  be\n",
      "meeting     VERB     6880656908171229526                meet\n",
      "him         PRON      561228191312463089              -PRON-\n",
      "tomorrow    NOUN     3573583789758258062            tomorrow\n",
      "at          ADP     11667289587015813222                  at\n",
      "the         DET      7425985699627899538                 the\n",
      "meeting     NOUN    14798207169164081740             meeting\n",
      ".           PUNCT   12646065887601541794                   .\n"
     ]
    }
   ],
   "source": [
    "show_lemma(doc3)"
   ]
  },
  {
   "cell_type": "code",
   "execution_count": 93,
   "metadata": {},
   "outputs": [
    {
     "name": "stdout",
     "output_type": "stream",
     "text": [
      "That        DET      4380130941430378203                that\n",
      "'s          VERB    10382539506755952630                  be\n",
      "an          DET     15099054000809333061                  an\n",
      "enormous    ADJ     17917224542039855524            enormous\n",
      "automobile  NOUN     7211811266693931283          automobile\n",
      "i           PRON     5097672513440128799                   i\n",
      "am          VERB    10382539506755952630                  be\n",
      "having      VERB    14692702688101715474                have\n",
      ",           PUNCT    2593208677638477497                   ,\n",
      "since       ADP     10066841407251338481               since\n",
      "i           PRON     5097672513440128799                   i\n",
      "had         VERB    14692702688101715474                have\n"
     ]
    }
   ],
   "source": [
    "show_lemma(doc4)"
   ]
  }
 ],
 "metadata": {
  "kernelspec": {
   "display_name": "Python 3",
   "language": "python",
   "name": "python3"
  },
  "language_info": {
   "codemirror_mode": {
    "name": "ipython",
    "version": 3
   },
   "file_extension": ".py",
   "mimetype": "text/x-python",
   "name": "python",
   "nbconvert_exporter": "python",
   "pygments_lexer": "ipython3",
   "version": "3.5.2"
  }
 },
 "nbformat": 4,
 "nbformat_minor": 2
}
