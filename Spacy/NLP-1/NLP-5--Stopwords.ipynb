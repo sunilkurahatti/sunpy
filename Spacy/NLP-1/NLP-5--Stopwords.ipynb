{
 "cells": [
  {
   "cell_type": "code",
   "execution_count": 1,
   "metadata": {},
   "outputs": [
    {
     "name": "stdout",
     "output_type": "stream",
     "text": [
      "=======================OM===============\n"
     ]
    }
   ],
   "source": [
    "print(\"=======================OM===============\")"
   ]
  },
  {
   "cell_type": "code",
   "execution_count": 3,
   "metadata": {},
   "outputs": [],
   "source": [
    "import spacy\n",
    "nlp=spacy.load('en_core_web_sm')"
   ]
  },
  {
   "cell_type": "code",
   "execution_count": 7,
   "metadata": {},
   "outputs": [
    {
     "name": "stdout",
     "output_type": "stream",
     "text": [
      "{'off', 'least', 'bottom', 'empty', 'front', 'latter', 'along', 'n‘t', 'was', 'whence', 'whom', 'name', 'twenty', 'yet', 'unless', 'most', '‘re', 'fifty', 'hence', 'none', 'have', 'part', 'thereafter', 'regarding', 'due', 'in', 'third', 'per', 'up', 'below', 'above', '‘ve', 'something', 'just', 'who', 'four', 'our', 'my', 'others', 'anyone', 'alone', 'i', 'may', 'whereas', 'within', 'herself', 'under', 'among', 'me', 'three', 'put', 'everywhere', 'them', 'mine', 'can', 'with', 'from', 'into', 'always', 'various', 'his', 'had', 'am', 'him', 'where', 'for', 'everything', 'formerly', 'hereby', 'anything', 'own', 'they', 'amount', 'themselves', 'without', 'ten', '’s', 'take', '’ve', 'give', 'the', 'down', 're', 'two', 'their', 'therefore', 'indeed', 'someone', 'do', 'doing', 'amongst', 'could', 'beyond', 'yourself', 'first', 'she', 'former', 'sometime', 'serious', 'those', 'us', 'together', 'all', 'well', 'via', 'besides', 'are', 'if', 'more', 'whole', 'becoming', 'ca', 'such', 'that', 'even', 'might', 'or', 'same', 'herein', 'this', 'somewhere', 'thru', 'seem', 'although', 'back', 'around', 'as', 'himself', 'whereupon', 'another', '’d', 'show', 'throughout', 'often', 'did', 'one', 'there', 'see', 'less', 'no', 'over', 'nevertheless', 'an', 'been', 'is', 'other', 'which', \"'d\", 'full', 'mostly', 'perhaps', 'a', 'because', 'what', 'across', 'he', 'seeming', 'ever', 'its', 'very', 'on', 'whose', 'yours', 'you', '’ll', 'made', 'too', \"n't\", \"'m\", \"'re\", 'thereby', 'became', 'does', 'nor', 'not', 'really', 'sometimes', 'move', 'fifteen', 'then', 'thus', 'nothing', 'since', 'once', 'somehow', 'of', 'twelve', 'thereupon', 'were', 'ourselves', 'by', 'be', 'whatever', 'out', 'so', 'upon', 'whoever', 'will', 'between', 'go', 'last', '’re', 'everyone', 'few', 'nine', 'while', 'about', 'hereafter', '‘m', 'before', 'seems', '‘ll', 'behind', 'say', 'thence', 'again', 'onto', '’m', 'should', 'these', 'n’t', 'also', \"'ll\", 'except', 'has', 'but', 'meanwhile', 'each', 'otherwise', 'whereby', 'against', 'nowhere', 'still', 'ours', 'beforehand', 'through', 'enough', 'afterwards', 'cannot', 'anyhow', 'noone', 'several', 'when', 'much', 'during', 'further', 'get', 'make', 'until', 'already', 'both', 'hereupon', 'six', 'her', 'wherein', 'elsewhere', 'using', 'whither', 'quite', 'moreover', '‘s', 'used', 'any', 'it', 'wherever', 'keep', 'myself', 'itself', 'many', 'would', 'whenever', 'nobody', 'eleven', 'at', 'now', 'namely', 'only', 'sixty', 'else', 'hers', 'latterly', \"'ve\", 'than', 'after', 'either', 'please', 'seemed', 'here', 'call', 'must', 'therein', 'top', 'how', 'whereafter', 'become', 'side', 'never', 'some', 'toward', 'to', 'five', 'anywhere', 'anyway', 'beside', 'being', 'eight', 'we', 'every', 'rather', 'whether', 'however', 'yourselves', '‘d', 'though', 'your', 'forty', 'next', 'neither', 'why', 'becomes', 'almost', 'and', 'towards', \"'s\", 'done', 'hundred'}\n"
     ]
    }
   ],
   "source": [
    "print(nlp.Defaults.stop_words)"
   ]
  },
  {
   "cell_type": "code",
   "execution_count": 8,
   "metadata": {},
   "outputs": [
    {
     "data": {
      "text/plain": [
       "326"
      ]
     },
     "execution_count": 8,
     "metadata": {},
     "output_type": "execute_result"
    }
   ],
   "source": [
    "len(nlp.Defaults.stop_words)"
   ]
  },
  {
   "cell_type": "code",
   "execution_count": 10,
   "metadata": {},
   "outputs": [
    {
     "data": {
      "text/plain": [
       "False"
      ]
     },
     "execution_count": 10,
     "metadata": {},
     "output_type": "execute_result"
    }
   ],
   "source": [
    "nlp.vocab['btw'].is_stop"
   ]
  },
  {
   "cell_type": "code",
   "execution_count": 11,
   "metadata": {},
   "outputs": [],
   "source": [
    "nlp.Defaults.stop_words.add('btw')"
   ]
  },
  {
   "cell_type": "code",
   "execution_count": 12,
   "metadata": {},
   "outputs": [
    {
     "data": {
      "text/plain": [
       "327"
      ]
     },
     "execution_count": 12,
     "metadata": {},
     "output_type": "execute_result"
    }
   ],
   "source": [
    "len(nlp.Defaults.stop_words)"
   ]
  },
  {
   "cell_type": "code",
   "execution_count": 14,
   "metadata": {},
   "outputs": [],
   "source": [
    "nlp.vocab['btw'].is_stop=True"
   ]
  },
  {
   "cell_type": "code",
   "execution_count": 15,
   "metadata": {},
   "outputs": [
    {
     "data": {
      "text/plain": [
       "True"
      ]
     },
     "execution_count": 15,
     "metadata": {},
     "output_type": "execute_result"
    }
   ],
   "source": [
    "nlp.vocab['btw'].is_stop"
   ]
  },
  {
   "cell_type": "code",
   "execution_count": 16,
   "metadata": {},
   "outputs": [],
   "source": [
    "nlp.Defaults.stop_words.remove('done')"
   ]
  },
  {
   "cell_type": "code",
   "execution_count": 17,
   "metadata": {},
   "outputs": [
    {
     "data": {
      "text/plain": [
       "326"
      ]
     },
     "execution_count": 17,
     "metadata": {},
     "output_type": "execute_result"
    }
   ],
   "source": [
    "len(nlp.Defaults.stop_words)"
   ]
  },
  {
   "cell_type": "code",
   "execution_count": 18,
   "metadata": {},
   "outputs": [],
   "source": [
    "nlp.vocab['done'].is_stop=False"
   ]
  },
  {
   "cell_type": "code",
   "execution_count": 19,
   "metadata": {},
   "outputs": [
    {
     "data": {
      "text/plain": [
       "False"
      ]
     },
     "execution_count": 19,
     "metadata": {},
     "output_type": "execute_result"
    }
   ],
   "source": [
    "nlp.vocab['done'].is_stop"
   ]
  },
  {
   "cell_type": "code",
   "execution_count": 21,
   "metadata": {},
   "outputs": [
    {
     "name": "stdout",
     "output_type": "stream",
     "text": [
      "<spacy.vocab.Vocab object at 0x7f77f1be4408>\n"
     ]
    }
   ],
   "source": [
    "print(nlp.vocab)"
   ]
  },
  {
   "cell_type": "code",
   "execution_count": 29,
   "metadata": {},
   "outputs": [],
   "source": [
    "a=nlp.vocab['danger']"
   ]
  },
  {
   "cell_type": "code",
   "execution_count": 32,
   "metadata": {},
   "outputs": [
    {
     "data": {
      "text/plain": [
       "<spacy.lexeme.Lexeme at 0x7f77f0c501f8>"
      ]
     },
     "execution_count": 32,
     "metadata": {},
     "output_type": "execute_result"
    }
   ],
   "source": [
    "a\n"
   ]
  }
 ],
 "metadata": {
  "kernelspec": {
   "display_name": "Python 3",
   "language": "python",
   "name": "python3"
  },
  "language_info": {
   "codemirror_mode": {
    "name": "ipython",
    "version": 3
   },
   "file_extension": ".py",
   "mimetype": "text/x-python",
   "name": "python",
   "nbconvert_exporter": "python",
   "pygments_lexer": "ipython3",
   "version": "3.5.2"
  }
 },
 "nbformat": 4,
 "nbformat_minor": 2
}
